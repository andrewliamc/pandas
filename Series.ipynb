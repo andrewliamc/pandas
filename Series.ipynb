{
 "cells": [
  {
   "cell_type": "code",
   "execution_count": 43,
   "id": "a7332b3f",
   "metadata": {},
   "outputs": [],
   "source": [
    "import pandas as pd\n",
    "import openpyxl"
   ]
  },
  {
   "cell_type": "markdown",
   "id": "eb9fc67a",
   "metadata": {},
   "source": [
    "# Create a Series Object from a Python List"
   ]
  },
  {
   "cell_type": "code",
   "execution_count": 9,
   "id": "bfac3082",
   "metadata": {},
   "outputs": [],
   "source": [
    "# the technical definition a Series is;\n",
    "# a one-dimensional labeled array\n",
    "# a Series combines the best of both a list and a dictionary, meaning it is both ordered with ability to associate key-value pairs\n",
    "# a series can store data such as a colomn in Excel, but also gives it a position in-line \n",
    "# i.e. the row label for the cell\n",
    "# a SERIES also the use of methods"
   ]
  },
  {
   "cell_type": "code",
   "execution_count": 10,
   "id": "2586382e",
   "metadata": {},
   "outputs": [
    {
     "data": {
      "text/plain": [
       "0     Chocolate\n",
       "1       Vanilla\n",
       "2    Strawberry\n",
       "3    Rum Raisin\n",
       "dtype: object"
      ]
     },
     "execution_count": 10,
     "metadata": {},
     "output_type": "execute_result"
    }
   ],
   "source": [
    "# declare a python list\n",
    "ice_cream = [\"Chocolate\", \"Vanilla\", \"Strawberry\", \"Rum Raisin\"]\n",
    "\n",
    "# Series is a class, and a class is a blueprint for creating objects\n",
    "pd.Series(ice_cream)"
   ]
  },
  {
   "cell_type": "code",
   "execution_count": 13,
   "id": "3654df0d",
   "metadata": {},
   "outputs": [],
   "source": [
    "# dtype is short for data type, such as an object / string / series of strings\n",
    "# the numbers on the righthand side are an index or like a key in the key-value pair\n",
    "# you can assign idenitifiers to list, but if you don't pandas will assign the identifier as the index the item is"
   ]
  },
  {
   "cell_type": "code",
   "execution_count": 14,
   "id": "c622441d",
   "metadata": {},
   "outputs": [
    {
     "data": {
      "text/plain": [
       "1     4\n",
       "2     8\n",
       "3    15\n",
       "4    16\n",
       "5    23\n",
       "6    42\n",
       "dtype: int64"
      ]
     },
     "execution_count": 14,
     "metadata": {},
     "output_type": "execute_result"
    }
   ],
   "source": [
    "lottery = [4, 8, 15, 16, 23, 42]\n",
    "\n",
    "pd.Series(lottery, index=[1, 2, 3, 4, 5, 6])"
   ]
  },
  {
   "cell_type": "code",
   "execution_count": null,
   "id": "93f40476",
   "metadata": {},
   "outputs": [],
   "source": [
    "# a SERIES takes more parameters;\n",
    "# class pandas.Series(data=None, index=None, dtype=None, name=None, copy=False, fastpath=False)"
   ]
  },
  {
   "cell_type": "code",
   "execution_count": 15,
   "id": "a70ecb3e",
   "metadata": {},
   "outputs": [
    {
     "data": {
      "text/plain": [
       "0     True\n",
       "1    False\n",
       "2    False\n",
       "3    False\n",
       "4     True\n",
       "dtype: bool"
      ]
     },
     "execution_count": 15,
     "metadata": {},
     "output_type": "execute_result"
    }
   ],
   "source": [
    "registrations = [True, False, False, False, True]\n",
    "\n",
    "pd.Series(registrations)"
   ]
  },
  {
   "cell_type": "code",
   "execution_count": 16,
   "id": "a9a81d5f",
   "metadata": {},
   "outputs": [],
   "source": [
    "# a Series represents a single columm of data in a spreadsheet\n",
    "# there are more complex objects such as tables of data, which are multiple series \"glued together\""
   ]
  },
  {
   "cell_type": "code",
   "execution_count": 32,
   "id": "ad388586",
   "metadata": {},
   "outputs": [],
   "source": [
    "# a more concise way to write a series"
   ]
  },
  {
   "cell_type": "code",
   "execution_count": 33,
   "id": "7c0bf358",
   "metadata": {},
   "outputs": [],
   "source": [
    "countries = pd.Series([\"United States\", \"France\", \"Germany\", \"Italy\"])"
   ]
  },
  {
   "cell_type": "markdown",
   "id": "055ecf4b",
   "metadata": {},
   "source": [
    "# Create a Series Object from a Dictionary"
   ]
  },
  {
   "cell_type": "code",
   "execution_count": 17,
   "id": "df3dc51a",
   "metadata": {},
   "outputs": [],
   "source": [
    "# this will allow us to associate string values as indices"
   ]
  },
  {
   "cell_type": "code",
   "execution_count": 19,
   "id": "a5fae57b",
   "metadata": {},
   "outputs": [
    {
     "data": {
      "text/plain": [
       "Salmon    Orange\n",
       "Tuna         Red\n",
       "Eel        Brown\n",
       "dtype: object"
      ]
     },
     "execution_count": 19,
     "metadata": {},
     "output_type": "execute_result"
    }
   ],
   "source": [
    "sushi = {\n",
    "    \"Salmon\": \"Orange\",\n",
    "    \"Tuna\": \"Red\",\n",
    "    \"Eel\": \"Brown\"\n",
    "}\n",
    "\n",
    "pd.Series(sushi)"
   ]
  },
  {
   "cell_type": "code",
   "execution_count": 25,
   "id": "23c50a00",
   "metadata": {},
   "outputs": [
    {
     "data": {
      "text/plain": [
       "1    NaN\n",
       "2    NaN\n",
       "3    NaN\n",
       "dtype: object"
      ]
     },
     "execution_count": 25,
     "metadata": {},
     "output_type": "execute_result"
    }
   ],
   "source": [
    "sushi = {\n",
    "    \"Salmon\": \"Orange\",\n",
    "    \"Tuna\": \"Red\",\n",
    "    \"Eel\": \"Brown\"\n",
    "}\n",
    "\n",
    "pd.Series(sushi, [1, 2, 3])"
   ]
  },
  {
   "cell_type": "code",
   "execution_count": 24,
   "id": "d092fe43",
   "metadata": {},
   "outputs": [],
   "source": [
    "# Note that the Index is first build with the keys from the dictionary. \n",
    "# After this the Series is reindexed with the given Index values, hence we get all NaN as a result."
   ]
  },
  {
   "cell_type": "code",
   "execution_count": 26,
   "id": "57e6cb1d",
   "metadata": {},
   "outputs": [],
   "source": [
    "# https://pandas.pydata.org/docs/reference/api/pandas.Series.html"
   ]
  },
  {
   "cell_type": "code",
   "execution_count": 27,
   "id": "a23b9c03",
   "metadata": {},
   "outputs": [
    {
     "data": {
      "text/plain": [
       "Salmon    Orange\n",
       "Tuna         Red\n",
       "Eel        Brown\n",
       "dtype: object"
      ]
     },
     "execution_count": 27,
     "metadata": {},
     "output_type": "execute_result"
    }
   ],
   "source": [
    "sushi = {\n",
    "    \"Salmon\": \"Orange\",\n",
    "    \"Tuna\": \"Red\",\n",
    "    \"Eel\": \"Brown\"\n",
    "}\n",
    "\n",
    "pd.Series(sushi)"
   ]
  },
  {
   "cell_type": "code",
   "execution_count": 28,
   "id": "a52d82dc",
   "metadata": {},
   "outputs": [
    {
     "data": {
      "text/plain": [
       "'Brown'"
      ]
     },
     "execution_count": 28,
     "metadata": {},
     "output_type": "execute_result"
    }
   ],
   "source": [
    "pd.Series(sushi)[2]"
   ]
  },
  {
   "cell_type": "code",
   "execution_count": 29,
   "id": "6de7a292",
   "metadata": {},
   "outputs": [
    {
     "data": {
      "text/plain": [
       "Series([], dtype: object)"
      ]
     },
     "execution_count": 29,
     "metadata": {},
     "output_type": "execute_result"
    }
   ],
   "source": [
    "pd.Series(sushi)[2:2]"
   ]
  },
  {
   "cell_type": "code",
   "execution_count": 30,
   "id": "44ddb5ac",
   "metadata": {},
   "outputs": [
    {
     "ename": "KeyError",
     "evalue": "2",
     "output_type": "error",
     "traceback": [
      "\u001b[0;31m---------------------------------------------------------------------------\u001b[0m",
      "\u001b[0;31mKeyError\u001b[0m                                  Traceback (most recent call last)",
      "Input \u001b[0;32mIn [30]\u001b[0m, in \u001b[0;36m<cell line: 1>\u001b[0;34m()\u001b[0m\n\u001b[0;32m----> 1\u001b[0m pd\u001b[38;5;241m.\u001b[39mSeries(\u001b[43msushi\u001b[49m\u001b[43m[\u001b[49m\u001b[38;5;241;43m2\u001b[39;49m\u001b[43m]\u001b[49m)\n",
      "\u001b[0;31mKeyError\u001b[0m: 2"
     ]
    }
   ],
   "source": [
    "pd.Series(sushi[2])"
   ]
  },
  {
   "cell_type": "code",
   "execution_count": 31,
   "id": "507a7272",
   "metadata": {},
   "outputs": [],
   "source": [
    "# a Pandas Series is able to sort multiple labels"
   ]
  },
  {
   "cell_type": "code",
   "execution_count": 34,
   "id": "e9bf246b",
   "metadata": {},
   "outputs": [],
   "source": [
    "# assigns a series to a new variable"
   ]
  },
  {
   "cell_type": "code",
   "execution_count": 35,
   "id": "b296fa8a",
   "metadata": {},
   "outputs": [],
   "source": [
    "recipe = {\n",
    "  \"Flour\": True,\n",
    "  \"Sugar\": True,\n",
    "  \"Salt\": False\n",
    "}\n",
    "series_dict = pd.Series(recipe)"
   ]
  },
  {
   "cell_type": "markdown",
   "id": "3990a39a",
   "metadata": {},
   "source": [
    "# Intro to Methods on Series"
   ]
  },
  {
   "cell_type": "code",
   "execution_count": 36,
   "id": "2fa79f97",
   "metadata": {},
   "outputs": [],
   "source": [
    "# Series are unmutable meaning that when a method is called on a series, Python is returning a new series"
   ]
  },
  {
   "cell_type": "code",
   "execution_count": 38,
   "id": "9da9ac05",
   "metadata": {},
   "outputs": [
    {
     "data": {
      "text/plain": [
       "0    2.99\n",
       "1    4.45\n",
       "2    1.36\n",
       "dtype: float64"
      ]
     },
     "execution_count": 38,
     "metadata": {},
     "output_type": "execute_result"
    }
   ],
   "source": [
    "prices = pd.Series([2.99, 4.45, 1.36])\n",
    "prices"
   ]
  },
  {
   "cell_type": "code",
   "execution_count": 39,
   "id": "621e7532",
   "metadata": {},
   "outputs": [
    {
     "data": {
      "text/plain": [
       "8.8"
      ]
     },
     "execution_count": 39,
     "metadata": {},
     "output_type": "execute_result"
    }
   ],
   "source": [
    "prices.sum()"
   ]
  },
  {
   "cell_type": "code",
   "execution_count": 40,
   "id": "0225db90",
   "metadata": {},
   "outputs": [
    {
     "data": {
      "text/plain": [
       "1.36"
      ]
     },
     "execution_count": 40,
     "metadata": {},
     "output_type": "execute_result"
    }
   ],
   "source": [
    "prices.min()"
   ]
  },
  {
   "cell_type": "code",
   "execution_count": 44,
   "id": "2fac63ba",
   "metadata": {},
   "outputs": [],
   "source": [
    "df1 = pd.DataFrame([['a', 'b'], ['c', 'd']],\n",
    "    index=['row 1', 'row 2'],\n",
    "    columns=['col 1', 'col 2'])\n",
    "df1.to_excel(\"output.xlsx\")"
   ]
  },
  {
   "cell_type": "code",
   "execution_count": 45,
   "id": "9441c4b2",
   "metadata": {},
   "outputs": [],
   "source": [
    "# self-guided installation of openpyxl into pandas_playground envr using conda\n",
    "# conda install openpyxl\n",
    "# import openpyxl in to j. notebook"
   ]
  },
  {
   "cell_type": "code",
   "execution_count": 47,
   "id": "52f67b75",
   "metadata": {},
   "outputs": [],
   "source": [
    "prices_product = prices.product()"
   ]
  },
  {
   "cell_type": "code",
   "execution_count": 49,
   "id": "09062769",
   "metadata": {},
   "outputs": [
    {
     "data": {
      "text/plain": [
       "numpy.float64"
      ]
     },
     "execution_count": 49,
     "metadata": {},
     "output_type": "execute_result"
    }
   ],
   "source": [
    "type(prices_product)"
   ]
  },
  {
   "cell_type": "code",
   "execution_count": 51,
   "id": "37c9fde0",
   "metadata": {},
   "outputs": [
    {
     "data": {
      "text/plain": [
       "2.9333333333333336"
      ]
     },
     "execution_count": 51,
     "metadata": {},
     "output_type": "execute_result"
    }
   ],
   "source": [
    "prices.mean()"
   ]
  },
  {
   "cell_type": "code",
   "execution_count": 54,
   "id": "cea39d2f",
   "metadata": {},
   "outputs": [],
   "source": [
    "# all of the methods are found at https://pandas.pydata.org/pandas-docs/stable/reference/api/pandas.Series.html\n",
    "# a method can sometimes of parameters (but not always)\n",
    "# a method can only be called on an object"
   ]
  },
  {
   "cell_type": "markdown",
   "id": "afb5984d",
   "metadata": {},
   "source": [
    "# Intro to Attributes"
   ]
  },
  {
   "cell_type": "code",
   "execution_count": 56,
   "id": "90527037",
   "metadata": {},
   "outputs": [],
   "source": [
    "# an attribute is an detail or characteristic that an object can tell us about itself\n",
    "# a method is more a behavior or a command"
   ]
  },
  {
   "cell_type": "code",
   "execution_count": 57,
   "id": "2c44e3af",
   "metadata": {},
   "outputs": [
    {
     "data": {
      "text/plain": [
       "0        Smart\n",
       "1     Handsome\n",
       "2     Charming\n",
       "3    Brilliant\n",
       "4       Humble\n",
       "dtype: object"
      ]
     },
     "execution_count": 57,
     "metadata": {},
     "output_type": "execute_result"
    }
   ],
   "source": [
    "adjectives = pd.Series([\"Smart\", \"Handsome\", \"Charming\", \"Brilliant\", \"Humble\"])\n",
    "adjectives"
   ]
  },
  {
   "cell_type": "code",
   "execution_count": 58,
   "id": "36968c60",
   "metadata": {},
   "outputs": [
    {
     "data": {
      "text/plain": [
       "5"
      ]
     },
     "execution_count": 58,
     "metadata": {},
     "output_type": "execute_result"
    }
   ],
   "source": [
    "adjectives.size"
   ]
  },
  {
   "cell_type": "code",
   "execution_count": 59,
   "id": "5295a2fb",
   "metadata": {},
   "outputs": [
    {
     "data": {
      "text/plain": [
       "True"
      ]
     },
     "execution_count": 59,
     "metadata": {},
     "output_type": "execute_result"
    }
   ],
   "source": [
    "adjectives.is_unique"
   ]
  },
  {
   "cell_type": "code",
   "execution_count": 61,
   "id": "9554ae8d",
   "metadata": {},
   "outputs": [
    {
     "data": {
      "text/plain": [
       "array(['Smart', 'Handsome', 'Charming', 'Brilliant', 'Humble'],\n",
       "      dtype=object)"
      ]
     },
     "execution_count": 61,
     "metadata": {},
     "output_type": "execute_result"
    }
   ],
   "source": [
    "adjectives.values"
   ]
  },
  {
   "cell_type": "code",
   "execution_count": 64,
   "id": "0f4f7fdd",
   "metadata": {},
   "outputs": [],
   "source": [
    "# ndarray comes from NumbPy library which is a dependency of Pandas (meaning Pandas needs it in order to run)"
   ]
  },
  {
   "cell_type": "code",
   "execution_count": 63,
   "id": "59af1c0d",
   "metadata": {},
   "outputs": [],
   "source": [
    "# ndarray states for N-dimensional array, meaning that it could be 3d or similar to a matrices"
   ]
  },
  {
   "cell_type": "code",
   "execution_count": 65,
   "id": "5384e708",
   "metadata": {},
   "outputs": [
    {
     "data": {
      "text/plain": [
       "RangeIndex(start=0, stop=5, step=1)"
      ]
     },
     "execution_count": 65,
     "metadata": {},
     "output_type": "execute_result"
    }
   ],
   "source": [
    "adjectives.index"
   ]
  },
  {
   "cell_type": "code",
   "execution_count": 66,
   "id": "6a6bc4aa",
   "metadata": {},
   "outputs": [
    {
     "data": {
      "text/plain": [
       "pandas.core.indexes.range.RangeIndex"
      ]
     },
     "execution_count": 66,
     "metadata": {},
     "output_type": "execute_result"
    }
   ],
   "source": [
    "type(adjectives.index)"
   ]
  },
  {
   "cell_type": "code",
   "execution_count": 67,
   "id": "fbdb0fcd",
   "metadata": {},
   "outputs": [],
   "source": [
    "# as shown above, there are many underlying objects built on top of each other"
   ]
  },
  {
   "cell_type": "markdown",
   "id": "cbaefc50",
   "metadata": {},
   "source": [
    "# Parameter and Arguments"
   ]
  },
  {
   "cell_type": "code",
   "execution_count": 68,
   "id": "86580fb3",
   "metadata": {},
   "outputs": [],
   "source": [
    "# Parameter - is the name that we give to an expected input\n",
    "# Argument - The concrete value that we provide to a parameter"
   ]
  },
  {
   "cell_type": "code",
   "execution_count": 70,
   "id": "ff7d00f8",
   "metadata": {},
   "outputs": [
    {
     "data": {
      "text/plain": [
       "Monday           Apple\n",
       "Tuesday         Orange\n",
       "Wednesday         Plum\n",
       "Thursday         Grape\n",
       "Friday       Blueberry\n",
       "dtype: object"
      ]
     },
     "execution_count": 70,
     "metadata": {},
     "output_type": "execute_result"
    }
   ],
   "source": [
    "fruits = [\"Apple\", \"Orange\", \"Plum\", \"Grape\", \"Blueberry\"]\n",
    "weekdays = [\"Monday\", \"Tuesday\", \"Wednesday\", \"Thursday\", \"Friday\"]\n",
    "\n",
    "pd.Series(fruits, weekdays)"
   ]
  },
  {
   "cell_type": "code",
   "execution_count": 72,
   "id": "0cdbbdd6",
   "metadata": {},
   "outputs": [
    {
     "data": {
      "text/plain": [
       "Monday           Apple\n",
       "Tuesday         Orange\n",
       "Wednesday         Plum\n",
       "Thursday         Grape\n",
       "Friday       Blueberry\n",
       "dtype: object"
      ]
     },
     "execution_count": 72,
     "metadata": {},
     "output_type": "execute_result"
    }
   ],
   "source": [
    "pd.Series(data = fruits, index = weekdays)"
   ]
  },
  {
   "cell_type": "code",
   "execution_count": 73,
   "id": "8aedb97e",
   "metadata": {},
   "outputs": [],
   "source": [
    "# if you press shift + tab inside the parentheses for the series, you can see all of the expected parameters and arguments"
   ]
  },
  {
   "cell_type": "code",
   "execution_count": 74,
   "id": "c9904233",
   "metadata": {},
   "outputs": [
    {
     "data": {
      "text/plain": [
       "Monday            Apple\n",
       "Tuesday          Orange\n",
       "Wednesday          Plum\n",
       "Thursday          Grape\n",
       "Friday        Blueberry\n",
       "Monday       Watermelon\n",
       "dtype: object"
      ]
     },
     "execution_count": 74,
     "metadata": {},
     "output_type": "execute_result"
    }
   ],
   "source": [
    "fruits = [\"Apple\", \"Orange\", \"Plum\", \"Grape\", \"Blueberry\", \"Watermelon\"]\n",
    "weekdays = [\"Monday\", \"Tuesday\", \"Wednesday\", \"Thursday\", \"Friday\", \"Monday\"]\n",
    "\n",
    "pd.Series(fruits, weekdays)"
   ]
  },
  {
   "cell_type": "code",
   "execution_count": null,
   "id": "c3326e3e",
   "metadata": {},
   "outputs": [],
   "source": []
  }
 ],
 "metadata": {
  "kernelspec": {
   "display_name": "Python 3 (ipykernel)",
   "language": "python",
   "name": "python3"
  },
  "language_info": {
   "codemirror_mode": {
    "name": "ipython",
    "version": 3
   },
   "file_extension": ".py",
   "mimetype": "text/x-python",
   "name": "python",
   "nbconvert_exporter": "python",
   "pygments_lexer": "ipython3",
   "version": "3.9.12"
  }
 },
 "nbformat": 4,
 "nbformat_minor": 5
}
