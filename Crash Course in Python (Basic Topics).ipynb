{
 "cells": [
  {
   "cell_type": "code",
   "execution_count": 6,
   "id": "122654ef",
   "metadata": {},
   "outputs": [],
   "source": [
    "import pandas as pd\n",
    "import numpy as np"
   ]
  },
  {
   "cell_type": "markdown",
   "id": "b84b611b",
   "metadata": {},
   "source": [
    "# Operators"
   ]
  },
  {
   "cell_type": "code",
   "execution_count": 1,
   "id": "03d6cb44",
   "metadata": {},
   "outputs": [
    {
     "data": {
      "text/plain": [
       "'racecar'"
      ]
     },
     "execution_count": 1,
     "metadata": {},
     "output_type": "execute_result"
    }
   ],
   "source": [
    "# concatenation\n",
    "\"race\" + \"car\""
   ]
  },
  {
   "cell_type": "code",
   "execution_count": 2,
   "id": "2312022a",
   "metadata": {},
   "outputs": [
    {
     "data": {
      "text/plain": [
       "23"
      ]
     },
     "execution_count": 2,
     "metadata": {},
     "output_type": "execute_result"
    }
   ],
   "source": [
    "3 + 4 * 5"
   ]
  },
  {
   "cell_type": "markdown",
   "id": "c275d99c",
   "metadata": {},
   "source": [
    "# Variables"
   ]
  },
  {
   "cell_type": "code",
   "execution_count": 3,
   "id": "1e154e82",
   "metadata": {},
   "outputs": [],
   "source": [
    "age = 29"
   ]
  },
  {
   "cell_type": "code",
   "execution_count": 4,
   "id": "c45ff7a8",
   "metadata": {},
   "outputs": [
    {
     "name": "stdout",
     "output_type": "stream",
     "text": [
      "29\n"
     ]
    }
   ],
   "source": [
    "print(age)"
   ]
  },
  {
   "cell_type": "markdown",
   "id": "cadb4872",
   "metadata": {},
   "source": [
    "# Built-in Functions"
   ]
  },
  {
   "cell_type": "code",
   "execution_count": 5,
   "id": "0f3ac82d",
   "metadata": {},
   "outputs": [
    {
     "data": {
      "text/plain": [
       "24"
      ]
     },
     "execution_count": 5,
     "metadata": {},
     "output_type": "execute_result"
    }
   ],
   "source": [
    "# len will calculate the len of a string\n",
    "len(\"How long is this string?\")"
   ]
  },
  {
   "cell_type": "code",
   "execution_count": 7,
   "id": "116c0d19",
   "metadata": {},
   "outputs": [
    {
     "data": {
      "text/plain": [
       "'6'"
      ]
     },
     "execution_count": 7,
     "metadata": {},
     "output_type": "execute_result"
    }
   ],
   "source": [
    "str(6)"
   ]
  },
  {
   "cell_type": "code",
   "execution_count": 8,
   "id": "76b244aa",
   "metadata": {},
   "outputs": [
    {
     "data": {
      "text/plain": [
       "10"
      ]
     },
     "execution_count": 8,
     "metadata": {},
     "output_type": "execute_result"
    }
   ],
   "source": [
    "int(\"10\")"
   ]
  },
  {
   "cell_type": "code",
   "execution_count": 9,
   "id": "f374fccd",
   "metadata": {},
   "outputs": [
    {
     "data": {
      "text/plain": [
       "3.14"
      ]
     },
     "execution_count": 9,
     "metadata": {},
     "output_type": "execute_result"
    }
   ],
   "source": [
    "float(\"3.14\")"
   ]
  },
  {
   "cell_type": "code",
   "execution_count": 10,
   "id": "b22ddf15",
   "metadata": {},
   "outputs": [
    {
     "data": {
      "text/plain": [
       "int"
      ]
     },
     "execution_count": 10,
     "metadata": {},
     "output_type": "execute_result"
    }
   ],
   "source": [
    "type(3)"
   ]
  },
  {
   "cell_type": "code",
   "execution_count": 12,
   "id": "d50fe7b6",
   "metadata": {},
   "outputs": [
    {
     "data": {
      "text/plain": [
       "float"
      ]
     },
     "execution_count": 12,
     "metadata": {},
     "output_type": "execute_result"
    }
   ],
   "source": [
    "type(4.14)"
   ]
  },
  {
   "cell_type": "markdown",
   "id": "7261e769",
   "metadata": {},
   "source": [
    "# Dictionaries"
   ]
  },
  {
   "cell_type": "code",
   "execution_count": 1,
   "id": "95d995fc",
   "metadata": {},
   "outputs": [],
   "source": [
    "# An unordered collection of key-value pairs"
   ]
  },
  {
   "cell_type": "code",
   "execution_count": 2,
   "id": "ac7b793e",
   "metadata": {},
   "outputs": [],
   "source": [
    "# As an example:\n",
    "# Filet mignon - 29.99"
   ]
  },
  {
   "cell_type": "code",
   "execution_count": 3,
   "id": "37602d3b",
   "metadata": {},
   "outputs": [],
   "source": [
    "menu = {\n",
    "    \"Filet Mignon\": 29.99,\n",
    "    \"Big Mac\": 3.99,\n",
    "    \"Pizza\": 0.99,\n",
    "    \"Salmon\": 29.99\n",
    "}"
   ]
  },
  {
   "cell_type": "code",
   "execution_count": 4,
   "id": "4d53ad7f",
   "metadata": {},
   "outputs": [
    {
     "data": {
      "text/plain": [
       "{'Filet Mignon': 29.99, 'Big Mac': 3.99, 'Pizza': 0.99, 'Salmon': 29.99}"
      ]
     },
     "execution_count": 4,
     "metadata": {},
     "output_type": "execute_result"
    }
   ],
   "source": [
    "menu"
   ]
  },
  {
   "cell_type": "code",
   "execution_count": 6,
   "id": "3606de13",
   "metadata": {},
   "outputs": [
    {
     "data": {
      "text/plain": [
       "4"
      ]
     },
     "execution_count": 6,
     "metadata": {},
     "output_type": "execute_result"
    }
   ],
   "source": [
    "len(menu)"
   ]
  },
  {
   "cell_type": "code",
   "execution_count": 7,
   "id": "a6806ef5",
   "metadata": {},
   "outputs": [
    {
     "data": {
      "text/plain": [
       "3.99"
      ]
     },
     "execution_count": 7,
     "metadata": {},
     "output_type": "execute_result"
    }
   ],
   "source": [
    "menu[\"Big Mac\"]"
   ]
  },
  {
   "cell_type": "code",
   "execution_count": 8,
   "id": "bc14f397",
   "metadata": {},
   "outputs": [],
   "source": [
    "# adding another key-value pair after the dictionary was defined originally"
   ]
  },
  {
   "cell_type": "code",
   "execution_count": 9,
   "id": "954aab12",
   "metadata": {},
   "outputs": [],
   "source": [
    "menu[\"Burrito\"] = 13.99"
   ]
  },
  {
   "cell_type": "code",
   "execution_count": 10,
   "id": "c639b6ad",
   "metadata": {},
   "outputs": [
    {
     "data": {
      "text/plain": [
       "{'Filet Mignon': 29.99,\n",
       " 'Big Mac': 3.99,\n",
       " 'Pizza': 0.99,\n",
       " 'Salmon': 29.99,\n",
       " 'Burrito': 13.99}"
      ]
     },
     "execution_count": 10,
     "metadata": {},
     "output_type": "execute_result"
    }
   ],
   "source": [
    "menu"
   ]
  },
  {
   "cell_type": "code",
   "execution_count": 11,
   "id": "897f6b07",
   "metadata": {},
   "outputs": [],
   "source": [
    "# removing a key-value pair from a dictionary"
   ]
  },
  {
   "cell_type": "code",
   "execution_count": 12,
   "id": "bcfc8b1a",
   "metadata": {},
   "outputs": [
    {
     "data": {
      "text/plain": [
       "29.99"
      ]
     },
     "execution_count": 12,
     "metadata": {},
     "output_type": "execute_result"
    }
   ],
   "source": [
    "menu.pop(\"Filet Mignon\")"
   ]
  },
  {
   "cell_type": "code",
   "execution_count": 13,
   "id": "396a9a93",
   "metadata": {},
   "outputs": [
    {
     "data": {
      "text/plain": [
       "{'Big Mac': 3.99, 'Pizza': 0.99, 'Salmon': 29.99, 'Burrito': 13.99}"
      ]
     },
     "execution_count": 13,
     "metadata": {},
     "output_type": "execute_result"
    }
   ],
   "source": [
    "menu"
   ]
  },
  {
   "cell_type": "code",
   "execution_count": 14,
   "id": "b7e8f212",
   "metadata": {},
   "outputs": [],
   "source": [
    "# searching for a key-value within a dicionary"
   ]
  },
  {
   "cell_type": "code",
   "execution_count": 15,
   "id": "96fb37bc",
   "metadata": {},
   "outputs": [
    {
     "data": {
      "text/plain": [
       "True"
      ]
     },
     "execution_count": 15,
     "metadata": {},
     "output_type": "execute_result"
    }
   ],
   "source": [
    "\"Big Mac\" in menu"
   ]
  },
  {
   "cell_type": "code",
   "execution_count": 16,
   "id": "990b429e",
   "metadata": {},
   "outputs": [
    {
     "data": {
      "text/plain": [
       "False"
      ]
     },
     "execution_count": 16,
     "metadata": {},
     "output_type": "execute_result"
    }
   ],
   "source": [
    "\"Hot Pocket\" in menu"
   ]
  },
  {
   "cell_type": "code",
   "execution_count": 17,
   "id": "e170d1e4",
   "metadata": {},
   "outputs": [
    {
     "data": {
      "text/plain": [
       "True"
      ]
     },
     "execution_count": 17,
     "metadata": {},
     "output_type": "execute_result"
    }
   ],
   "source": [
    "\"Bubble Gum\" not in menu"
   ]
  },
  {
   "cell_type": "code",
   "execution_count": 18,
   "id": "c2696db3",
   "metadata": {},
   "outputs": [],
   "source": [
    "# it is True that \"Bubble Gum\" os not in the menu"
   ]
  },
  {
   "cell_type": "code",
   "execution_count": 19,
   "id": "d19b285b",
   "metadata": {},
   "outputs": [],
   "source": [
    "# in order to search the values of the key-value pairs"
   ]
  },
  {
   "cell_type": "code",
   "execution_count": 20,
   "id": "b7bd97c6",
   "metadata": {},
   "outputs": [
    {
     "data": {
      "text/plain": [
       "False"
      ]
     },
     "execution_count": 20,
     "metadata": {},
     "output_type": "execute_result"
    }
   ],
   "source": [
    "5.99 in menu.values()"
   ]
  },
  {
   "cell_type": "code",
   "execution_count": 21,
   "id": "f454832f",
   "metadata": {},
   "outputs": [
    {
     "data": {
      "text/plain": [
       "True"
      ]
     },
     "execution_count": 21,
     "metadata": {},
     "output_type": "execute_result"
    }
   ],
   "source": [
    "0.99 in menu.values()"
   ]
  },
  {
   "cell_type": "code",
   "execution_count": null,
   "id": "821917fb",
   "metadata": {},
   "outputs": [],
   "source": []
  }
 ],
 "metadata": {
  "kernelspec": {
   "display_name": "Python 3 (ipykernel)",
   "language": "python",
   "name": "python3"
  },
  "language_info": {
   "codemirror_mode": {
    "name": "ipython",
    "version": 3
   },
   "file_extension": ".py",
   "mimetype": "text/x-python",
   "name": "python",
   "nbconvert_exporter": "python",
   "pygments_lexer": "ipython3",
   "version": "3.9.12"
  }
 },
 "nbformat": 4,
 "nbformat_minor": 5
}
